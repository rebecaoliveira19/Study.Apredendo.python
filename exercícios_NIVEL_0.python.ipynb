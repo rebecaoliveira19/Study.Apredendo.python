{
  "nbformat": 4,
  "nbformat_minor": 0,
  "metadata": {
    "colab": {
      "provenance": [],
      "authorship_tag": "ABX9TyPhh1wrlo1hm6bqpngcfmAh",
      "include_colab_link": true
    },
    "kernelspec": {
      "name": "python3",
      "display_name": "Python 3"
    },
    "language_info": {
      "name": "python"
    }
  },
  "cells": [
    {
      "cell_type": "markdown",
      "metadata": {
        "id": "view-in-github",
        "colab_type": "text"
      },
      "source": [
        "<a href=\"https://colab.research.google.com/github/rebecaoliveira19/mini.projeto.python/blob/master/exerc%C3%ADcios_NIVEL_0.python.ipynb\" target=\"_parent\"><img src=\"https://colab.research.google.com/assets/colab-badge.svg\" alt=\"Open In Colab\"/></a>"
      ]
    },
    {
      "cell_type": "code",
      "execution_count": null,
      "metadata": {
        "colab": {
          "base_uri": "https://localhost:8080/"
        },
        "id": "9cG82WeQmnts",
        "outputId": "707e03ed-946c-493f-c316-8e8c6fe1a89a"
      },
      "outputs": [
        {
          "output_type": "stream",
          "name": "stdout",
          "text": [
            "Digita 5 nomes (ou x para parar)\n",
            "Hahann\n",
            "Digita 5 nomes (ou x para parar)\n",
            "Julia\n",
            "Digita 5 nomes (ou x para parar)\n",
            "Mona\n",
            "Digita 5 nomes (ou x para parar)\n",
            "Ykei\n",
            "Digita 5 nomes (ou x para parar)\n",
            "Noemi\n",
            "Digita 5 nomes (ou x para parar)\n",
            "x\n",
            "['Mona, Paulinha, Livia, Vivana, Ivye']\n"
          ]
        }
      ],
      "source": [
        "while True:\n",
        "  print('Digita 5 nomes (ou x para parar)')\n",
        "  more = input()\n",
        "  if more == 'x' or more == 'X':\n",
        "    break\n",
        "    nome = [more]\n",
        "    print('FIM, {more}')\n",
        "print(nome)\n"
      ]
    },
    {
      "cell_type": "code",
      "source": [
        "while True:\n",
        "\n",
        "    n = input('Digite um numero: (ou X para sair) ')\n",
        "    if n == 'x' or  n == 'X':\n",
        "        break\n",
        "    n = int(n)\n",
        "    y = int(input('Digite um numero: (ou X para sair) '))\n",
        "    if y == 'x' or y == 'X':\n",
        "        break\n",
        "    soma = n + y\n",
        "    print('Resultado {} + {} = {}'.format(n, y, soma))\n"
      ],
      "metadata": {
        "colab": {
          "base_uri": "https://localhost:8080/"
        },
        "id": "EcFBrFTSnQup",
        "outputId": "d1cf6eab-f798-4ade-e6e2-180ab098a193"
      },
      "execution_count": null,
      "outputs": [
        {
          "name": "stdout",
          "output_type": "stream",
          "text": [
            "Digite um numero: (ou X para sair) 56\n",
            "Digite um numero: (ou X para sair) 89\n",
            "Resultado 56 + 89 = 145\n",
            "Digite um numero: (ou X para sair) 12\n",
            "Digite um numero: (ou X para sair) 89\n",
            "Resultado 12 + 89 = 101\n",
            "Digite um numero: (ou X para sair) x\n"
          ]
        }
      ]
    },
    {
      "cell_type": "code",
      "source": [
        "#1. Faça um programa que receba do usuário, separadamente, o nome e o sobrenome e mostre na tela o nome e o sobrenome juntos.\n",
        "nome = input('Qual e o seu nome?:  ')\n",
        "none = input('Qual e o seu sobrenome?: ')\n",
        "print('Olá o meu nome é {} {}'.format(nome, none))"
      ],
      "metadata": {
        "colab": {
          "base_uri": "https://localhost:8080/"
        },
        "id": "3utZAGsQKc1q",
        "outputId": "44b625c6-9f69-4e42-911c-16a7de70797d"
      },
      "execution_count": null,
      "outputs": [
        {
          "output_type": "stream",
          "name": "stdout",
          "text": [
            "Qual e o seu nome?:  Juju\n",
            "Qual e o seu sobrenome?: Swittch\n",
            "Olá o meu nome é Juju Swittch\n"
          ]
        }
      ]
    },
    {
      "cell_type": "code",
      "source": [
        "#2. Faça um programa que peça ao usuário uma frase e que, a partir da escolha do usuário, mostre na tela tudo em maiúsculo ou em minúsculo.\n",
        "usuario = input('Digite uma frase: ')\n",
        "\n",
        "\n",
        "print('MENU:')\n",
        "print('1 Letras Mauisculas:')\n",
        "print('2 letras Minusculas: ')\n",
        "\n",
        "resposta = input('resposta: ')\n",
        "if resposta == '1':\n",
        "  print('1'.resposta)\n",
        "elif resposta == '2':\n",
        "  print(resposta)\n",
        "\n",
        "\n",
        "usuario = usuario.lower()\n",
        "usuario = usuario.upper()\n",
        "print(usuario)\n",
        "\n",
        "\n",
        "\n"
      ],
      "metadata": {
        "id": "-e001NzCMQNW",
        "colab": {
          "base_uri": "https://localhost:8080/"
        },
        "outputId": "bdad2e35-03f4-4b41-c2d9-1baa45097f6b"
      },
      "execution_count": null,
      "outputs": [
        {
          "output_type": "stream",
          "name": "stdout",
          "text": [
            "Digite uma frase: gelinha do paulinho bruno\n",
            "MENU:\n",
            "1 Letras Mauisculas:\n",
            "2 letras Minusculas: \n",
            "resposta: 2\n",
            "2\n",
            "GELINHA DO PAULINHO BRUNO\n"
          ]
        }
      ]
    },
    {
      "cell_type": "code",
      "source": [
        "#3. Faça um programa que peça para o usuário inserir uma frase e uma letra e que mostre na tela a quantidade de vezes que a letra inserida apareceu na frase.\n",
        "\n",
        "frase = input('Digite um frase: ')\n",
        "letra = input('Digite uma letra: ')\n",
        "\n",
        "\n",
        "print('A letra {} aprareceu {} vezes na frase'.format(letra, frase.count(letra)))\n",
        "\n",
        "\n",
        "\n",
        "\n"
      ],
      "metadata": {
        "colab": {
          "base_uri": "https://localhost:8080/"
        },
        "id": "lIylAJX0woro",
        "outputId": "c501627f-9e30-4dc9-8dac-07b8bbb7bbc2"
      },
      "execution_count": null,
      "outputs": [
        {
          "output_type": "stream",
          "name": "stdout",
          "text": [
            "Digite um frase: casa\n",
            "Digite uma letra: a\n",
            "A letra a aprareceu 2 vezes na frase\n"
          ]
        }
      ]
    },
    {
      "cell_type": "code",
      "source": [
        "#4. Faça um programa que peça ao usuário inserir, em uma única entrada (input), o nome de cinco pessoas e mostre na tela os nomes de forma separada.\n",
        "\n",
        "nomes = input('Digite 5 nomes: ')\n",
        "print(nomes)\n",
        "print(nomes.split())\n",
        "\n",
        "\n"
      ],
      "metadata": {
        "colab": {
          "base_uri": "https://localhost:8080/"
        },
        "id": "STHF9LTJza7H",
        "outputId": "097673b7-8891-48fc-d18d-7fdd1f10b4a1"
      },
      "execution_count": null,
      "outputs": [
        {
          "output_type": "stream",
          "name": "stdout",
          "text": [
            "Digite 5 nomes: ellen, noah, nolah, levi, louis\n",
            "ellen, noah, nolah, levi, louis\n",
            "['ellen,', 'noah,', 'nolah,', 'levi,', 'louis']\n"
          ]
        }
      ]
    },
    {
      "cell_type": "code",
      "source": [
        "#5. Faça um programa que peça ao usuário para inserir uma frase, uma palavra que está contida na frase e uma outra palavra que ele deseja substituir no lugar da primeira palavra inserida.\n",
        "\n",
        "frase = input('Digita uma frase: ')\n",
        "plavra = input('Digita uma palavra contida na frase: ')\n",
        "digita = input('Digita a palavra que ira substituir a palavra a cima: ')\n",
        "\n",
        "nova_palavra = frase.replace(plavra, digita)\n",
        "\n",
        "print(frase)\n",
        "print(plavra)\n",
        "print(nova_palavra)\n",
        "\n",
        "\n",
        "\n"
      ],
      "metadata": {
        "colab": {
          "base_uri": "https://localhost:8080/"
        },
        "id": "gY26EDUDEJVT",
        "outputId": "9b43d738-f3d5-48a6-e646-165c43d3a2b2"
      },
      "execution_count": null,
      "outputs": [
        {
          "output_type": "stream",
          "name": "stdout",
          "text": [
            "Digita uma frase: Todo amor que tenho por voce, Já era!\n",
            "Digita uma palavra contida na frase: amor\n",
            "Digita a palavra que ira substituir a palavra a cima: ódio\n",
            "Todo amor que tenho por voce, Já era!\n",
            "amor\n",
            "Todo ódio que tenho por voce, Já era!\n"
          ]
        }
      ]
    },
    {
      "cell_type": "code",
      "source": [
        "#Identificando entradas\n",
        "#Escreva um programa que receba uma entrada do usuário e verifique se essa entrada é:\n",
        "\n",
        "#Um número\n",
        "#Uma palavra\n",
        "#Uma palavra com números\n",
        "#Nota: Procure na documentação oficial do Python ou no Google quais métodos do objeto String podem te ajudar neste desafio.\n",
        "\n",
        "usuario = input('Digita: ')\n",
        "\n",
        "print(usuario.isnumeric())\n",
        "print(usuario.isalpha())\n",
        "print(usuario.isalnum())\n",
        "\n",
        "\n"
      ],
      "metadata": {
        "colab": {
          "base_uri": "https://localhost:8080/"
        },
        "id": "BCRQ1Xt6QZqY",
        "outputId": "6a780e5d-cd86-4e7a-9750-dad96759fd35"
      },
      "execution_count": null,
      "outputs": [
        {
          "output_type": "stream",
          "name": "stdout",
          "text": [
            "Digita: john\n",
            "False\n",
            "True\n",
            "True\n"
          ]
        }
      ]
    },
    {
      "cell_type": "code",
      "source": [
        "#Palíndromos\n",
        "#Escreva um programa que receba uma entrada em texto (String) e diga se a String é ou não um Palíndromo.\n",
        "#Nota: Um palíndromo é uma palavra/frase que é igual ao seu conteúdo invertido.\n",
        "#Por exemplo:\n",
        "#Radar\n",
        "#Socos\n",
        "#Ovo\n",
        "#Osso\n",
        "#Morram após a sopa marrom (nesse caso ignoramos o acento no “ó”)\n",
        "\n",
        "\n",
        "word = 'Java'\n",
        "print(word.replace('J', 'P'))\n"
      ],
      "metadata": {
        "id": "Wa9FkEGGRWEh",
        "colab": {
          "base_uri": "https://localhost:8080/"
        },
        "outputId": "1a947feb-05b4-4131-b234-ca8af3c6aa40"
      },
      "execution_count": null,
      "outputs": [
        {
          "output_type": "stream",
          "name": "stdout",
          "text": [
            "Pava\n"
          ]
        }
      ]
    },
    {
      "cell_type": "code",
      "source": [
        "#1. Faça um programa que peça para o usuário inserir uma idade e mostre na tela se ele é maior de idade ou não.\n",
        "\n",
        "idade = int(input('Qual e a sua idade? '))\n",
        "\n",
        "if idade >= 18:\n",
        "  print(' você e maior de idade...')\n",
        "elif idade <= 18:\n",
        "  print('Você e menor de idade... ')\n",
        "\n",
        "\n",
        "\n",
        "\n"
      ],
      "metadata": {
        "colab": {
          "base_uri": "https://localhost:8080/"
        },
        "id": "4LPyxbp97ARR",
        "outputId": "6e327e93-b14b-4045-b4dc-29c81c807a0b"
      },
      "execution_count": null,
      "outputs": [
        {
          "output_type": "stream",
          "name": "stdout",
          "text": [
            "Qual e a sua idade? 18\n",
            " você e maior de idade...\n"
          ]
        }
      ]
    },
    {
      "cell_type": "code",
      "source": [
        "#2. Faça um programa que mostre na tela uma pergunta de múltipla escolha, e que, a partir da resposta do usuário, mostre na tela se ele acertou ou não.\n",
        "\n",
        "print('Qual dessas alternativa voce acerta?  ')\n",
        "print('A, B, C, D')\n",
        "resposta = input('Resposta: ')\n",
        "\n",
        "if resposta == 'A' :\n",
        "    print('Voce acertou a altenativa {}'.resposta)\n",
        "elif resposta != 'A':\n",
        "    print('Voce errou!')\n",
        "\n",
        "\n",
        "\n"
      ],
      "metadata": {
        "colab": {
          "base_uri": "https://localhost:8080/"
        },
        "id": "8HgI_BccAeDG",
        "outputId": "0ca03f03-fa3c-4f2a-a943-2394ed8ba9ff"
      },
      "execution_count": null,
      "outputs": [
        {
          "output_type": "stream",
          "name": "stdout",
          "text": [
            "Qual dessas alternativa voce acerta?  \n",
            "A, B, C, D\n",
            "Resposta: b\n",
            "Voce errou!\n"
          ]
        }
      ]
    },
    {
      "cell_type": "code",
      "source": [
        "#3. Faça um programa que peça para o usuário inserir um nome, pergunte se ele gosta do nome e, em ambos os possíveis casos de resposta (Sim ou Não), mostre uma mensagem de sua escolha na tela.\n",
        "\n",
        "my = input('Qual e o seu nome?  ')\n",
        "print('You did you like name? Click Y[Yes] or N[Not]')\n",
        "res = input('Resposta: ')\n",
        "\n",
        "if res == 'Y' or res == 'y':\n",
        "  print('You Like Name'.format(res))\n",
        "elif res == 'N' or res == 'n':\n",
        "  print('You not Like the nome')\n"
      ],
      "metadata": {
        "colab": {
          "base_uri": "https://localhost:8080/"
        },
        "id": "VqEMxcbJCcUN",
        "outputId": "98ad56b1-3a62-42ba-f085-f9ef71bc8265"
      },
      "execution_count": null,
      "outputs": [
        {
          "output_type": "stream",
          "name": "stdout",
          "text": [
            "Qual e o seu nome?  bumm\n",
            "You did you like name? Click Y[Yes] or N[Not]\n",
            "Resposta: n\n",
            "You not Like the nome\n"
          ]
        }
      ]
    },
    {
      "cell_type": "code",
      "source": [
        "#4. Faça um programa que pergunte ao usuário se ele possui irmãos, e que, caso a resposta seja “sim”, pergunte quantos e mostre na tela uma mensagem de sua escolha. No caso de o usuário responder “não”, pergunte se ele gostaria de ter e mostre na tela uma mensagem de sua escolha.\n",
        "\n",
        "print('Voce tem irmãos? se S[Sim] ou N[Não]')\n",
        "resposta = input('Resposta: ')\n",
        "\n",
        "if resposta == 'S' or resposta == 's':\n",
        "  quantidade = input('Quantos voce tem?:  ')\n",
        "  print('{} irmãos que legal!'.format(quantidade, resposta))\n",
        "elif resposta == 'N' or resposta == 'n':\n",
        "  print('Voce gostaria de ter um irmão?'.format(resposta))\n",
        "  fale = input('Resposta: ')\n",
        "if fale == 'S' or fale == 's':\n",
        "  print('Pede pro seus pais fazerem um')\n",
        "\n",
        "\n",
        "\n",
        "\n"
      ],
      "metadata": {
        "colab": {
          "base_uri": "https://localhost:8080/"
        },
        "id": "dyEGXAN0Gmlu",
        "outputId": "14ef5ca3-2a3b-453f-d2ba-e02a7f9dbf5e"
      },
      "execution_count": null,
      "outputs": [
        {
          "output_type": "stream",
          "name": "stdout",
          "text": [
            "Voce tem irmãos? se S[Sim] ou N[Não]\n",
            "Resposta: n\n",
            "Voce gostaria de ter um irmão?\n",
            "Resposta: s\n",
            "Pede pro seus pais fazerem um\n"
          ]
        }
      ]
    },
    {
      "cell_type": "code",
      "source": [
        "#5. Faça um programa que permita o usuário escolher entre três opções de bebidas e mostre na tela a bebida escolhida.\n",
        "print('MENU')\n",
        "print('Opçãoes')\n",
        "print('1. Coca-Cola')\n",
        "print('2. Water')\n",
        "print('3. BLACK-COFFE')\n",
        "\n",
        "resposta = input('Escolha:  ')\n",
        "\n",
        "if resposta == '1':\n",
        "  print('Voce escolheu Coca-cola')\n",
        "elif resposta == '2':\n",
        "  print('Voce escolheu Water')\n",
        "elif resposta == '3':\n",
        "  print('Voce escolheu BLACK-COFFE')\n",
        "\n",
        "\n",
        "\n"
      ],
      "metadata": {
        "colab": {
          "base_uri": "https://localhost:8080/"
        },
        "id": "uf_902TyJW5s",
        "outputId": "728d63d4-6667-42d2-aa18-079e7b030164"
      },
      "execution_count": null,
      "outputs": [
        {
          "output_type": "stream",
          "name": "stdout",
          "text": [
            "MENU\n",
            "Opçãoes\n",
            "1. Coca-Cola\n",
            "2. Water\n",
            "3. BLACK-COFFE\n",
            "Escolha:  3\n",
            "Voce escolheu BLACK-COFFE\n"
          ]
        }
      ]
    },
    {
      "cell_type": "code",
      "source": [
        "#6. Faça um programa que peça para o usuário inserir dois números e que verifique qual é o maior ou se eles são iguais.\n",
        "\n",
        "n1 = int(input('Digite um numero: '))\n",
        "n2 = int(input('Digita outro numero: '))\n",
        "\n",
        "if n1 > n2:\n",
        "  print('Este numero {} e maior do que {}'.format(n1, n2))\n",
        "elif n2 > n1:\n",
        "  print('Este numero {} e maior do que {}'.format(n2, n1))\n",
        "\n",
        "\n",
        "\n",
        "\n"
      ],
      "metadata": {
        "colab": {
          "base_uri": "https://localhost:8080/"
        },
        "id": "SK82j1h1NQ-N",
        "outputId": "19c11980-a691-4213-b353-cbd714070508"
      },
      "execution_count": null,
      "outputs": [
        {
          "output_type": "stream",
          "name": "stdout",
          "text": [
            "Digite um numero: 8\n",
            "Digita outro numero: 9\n",
            "Este numero 9 e maior do que 8\n"
          ]
        }
      ]
    },
    {
      "cell_type": "code",
      "source": [
        "#7 Faça um programa que peça para o usuário inserir dois números e que verifique qual é o menor ou se eles são iguais.\n",
        "\n",
        "n3 = int(input('Digita um numero: '))\n",
        "n4 = int(input('Digita um numero: '))\n",
        "\n",
        "if n3 <= n4:\n",
        "  print('Resultado: e menor {} '.format(n3, n4))\n",
        "elif n3 >= n4:\n",
        "  print('São mesmo numero igual: {} e {}'.format(n3, n4))\n",
        "\n",
        "\n"
      ],
      "metadata": {
        "colab": {
          "base_uri": "https://localhost:8080/"
        },
        "id": "oGWr9DOpNVqD",
        "outputId": "83a0af03-f8a0-43af-a3eb-6ad3802beb6d"
      },
      "execution_count": null,
      "outputs": [
        {
          "output_type": "stream",
          "name": "stdout",
          "text": [
            "Digita um numero: 5\n",
            "Digita um numero: 5\n",
            "Resultado: e menor 5 \n"
          ]
        }
      ]
    },
    {
      "cell_type": "code",
      "source": [
        "#8  Faça um programa que peça para o usuário inserir dois números, pergunte se ele quer realizar a operação de adição ou de subtração e, que a partir desta escolha, mostre o resultado na tela.\n",
        "\n",
        "\n",
        "n1 = int(input('Qual numeros: '))\n",
        "n2 = int(input('Qual numero:   '))\n",
        "\n",
        "print('Qual o operação voce quer realizar? + ou -   ')\n",
        "choice = input('Resposta:  ')\n",
        "\n",
        "if choice == '+' or choice != '-':\n",
        "  print('Resultado: {} + {} = {} '.format(n1, n2, n1+n2))\n",
        "else:\n",
        "  print('Resultado: {} - {} = {}'.format(n1, n2, n1-n2))\n",
        "\n"
      ],
      "metadata": {
        "id": "0-p56PgaNacx",
        "colab": {
          "base_uri": "https://localhost:8080/"
        },
        "outputId": "247e200c-4bec-4bae-de73-2adcb019ea37"
      },
      "execution_count": null,
      "outputs": [
        {
          "output_type": "stream",
          "name": "stdout",
          "text": [
            "Qual numeros: 10\n",
            "Qual numero:   5\n",
            "Qual o operação voce quer realizar? + ou -   \n",
            "Resposta:  -\n",
            "Resultado: 10 - 5 = 5\n"
          ]
        }
      ]
    },
    {
      "cell_type": "code",
      "source": [
        "#9 Faça um programa que peça para o usuário inserir dois números, pergunte se ele quer realizar a operação de multiplicação ou de divisão e que, a partir desta escolha, mostre o resultado na tela.\n",
        "\n",
        "n3 = int(input(':'))\n",
        "n4 = int(input(':'))\n",
        "\n",
        "print('Qual a operação voce quer realizar? * ou / ')\n",
        "res = input('Resposta: ')\n",
        "\n",
        "if res == '*' or res != '/':\n",
        "  print('{} * {} = {}'.format(n3, n4, n3*n4))\n",
        "else:\n",
        "  print('{} / {} = {}'.format(n3, n4, n3/n4))\n",
        "\n"
      ],
      "metadata": {
        "id": "tsM3tPczNf3S",
        "colab": {
          "base_uri": "https://localhost:8080/"
        },
        "outputId": "08ef015d-1186-4de0-f41b-a4a5f4184a51"
      },
      "execution_count": null,
      "outputs": [
        {
          "output_type": "stream",
          "name": "stdout",
          "text": [
            ":12\n",
            ":12\n",
            "Qual a operação voce quer realizar? * ou / \n",
            "Resposta: *\n",
            "12 * 12 = 144\n"
          ]
        }
      ]
    },
    {
      "cell_type": "code",
      "source": [
        "#10 Faça um programa que pergunte a temperatura atual para o usuário e mostre uma mensagem na tela dizendo se está “quente”, “frio” ou “agradável”.\n",
        "\n",
        "\n",
        "temperatura = float(input('Qual e a temperatura?  '))\n",
        "\n",
        "\n",
        "\n",
        "if temperatura  < 20:\n",
        "  print('Agradavel'.format(temperatura))\n",
        "elif temperatura > 25:\n",
        "  print('quente'.format(temperatura))\n",
        "elif temperatura >= 15:\n",
        "  print('frio'.format(temperatura))\n",
        "\n",
        "\n"
      ],
      "metadata": {
        "id": "SKaYFNiuNhs6",
        "colab": {
          "base_uri": "https://localhost:8080/"
        },
        "outputId": "7ceb5d4e-1115-47db-b696-c8056cb27948"
      },
      "execution_count": 12,
      "outputs": [
        {
          "output_type": "stream",
          "name": "stdout",
          "text": [
            "Qual e a temperatura?  18\n",
            "Agradavel\n"
          ]
        }
      ]
    },
    {
      "cell_type": "code",
      "source": [
        "#11  Faça um programa que pergunte ao usuário se ele quer passar uma temperatura de Fahrenheit para Celsius ou de Celsius para Fahrenheit, e que, a partir da resposta do usuário, faça a devida conversão.\n",
        "\n",
        "temperatura = float(input('Qual é a temperatura?:   '))\n",
        "print('Qual temperatura voce quer passar?:  (F) Fahremheit ou (C) Celsius')\n",
        "res = input('Resposta:   ')\n",
        "\n",
        "F =  (temperatura * 9)/ 5 + 32\n",
        "C = (temperatura - 32)* 5/9\n",
        "\n",
        "if res == 'F' or res == 'f':\n",
        "  print('Esta temperatura {} esta em Fahrenheit {} {}'.format(temperatura, res, F))\n",
        "elif res == 'C' or res == 'c':\n",
        "  print('Esta temperatura {} esta em Celsius {}, {}'.format(temperatura,res, C))\n",
        "\n",
        "\n",
        "\n",
        "\n",
        "\n",
        "\n"
      ],
      "metadata": {
        "colab": {
          "base_uri": "https://localhost:8080/"
        },
        "id": "yEjE5EAFu5Du",
        "outputId": "993c7d9f-50e9-4fbf-a6ca-8492e260ba2d"
      },
      "execution_count": 9,
      "outputs": [
        {
          "output_type": "stream",
          "name": "stdout",
          "text": [
            "Qual é a temperatura?:   15\n",
            "Qual temperatura voce quer passar?:  (F) Fahremheit ou (C) Celsius\n",
            "Resposta:   F\n",
            "Esta temperatura 15.0 esta em Fahrenheit F 59.0\n"
          ]
        }
      ]
    },
    {
      "cell_type": "code",
      "source": [
        "# Faça um programa que receba a idade de uma pessoa e imprima sua condição (obrigatória, optativa ou proibida), em relação ao ato de votar, conforme apresentado abaixo:\n",
        "\n",
        "#Pessoas com idade menor que 16 anos são proibidas de votar (proibido);\n",
        "#Pessoas com idade igual a 16 e menor que 18 anos não são obrigadas a votar (optativo);\n",
        "#Pessoas com idade igual a 18 e menor que 65 anos são obrigadas a votar (obrigatório);\n",
        "#Pessoas com idade igual ou maior a 65 anos não são obrigadas a votar (optativo).\n",
        "\n",
        "idade = int(input('Qunatos anos você tem?: '))\n",
        "\n",
        "if idade < 16:\n",
        "  print('PROIBIDO'.format(idade))\n",
        "elif idade == 16  or (idade > 16 and idade < 18):\n",
        "  print('OPTATIVO'.format(idade))\n",
        "elif idade >= 18  and idade < 65:\n",
        "  print('Obrigatorio'.format(idade))\n",
        "else:\n",
        "  print('Não são obrigadas a votar')\n",
        "\n"
      ],
      "metadata": {
        "colab": {
          "base_uri": "https://localhost:8080/"
        },
        "id": "gwnx80zsy4d2",
        "outputId": "1bea2f5d-920e-4bd3-c0ff-9bce867cb669"
      },
      "execution_count": null,
      "outputs": [
        {
          "output_type": "stream",
          "name": "stdout",
          "text": [
            "Qunatos anos você tem?: 17\n",
            "OPTATIVO\n"
          ]
        }
      ]
    },
    {
      "cell_type": "code",
      "source": [
        "#Faça um programa que receba uma data (dia, mês e ano) e indique se a data inserida é uma data válida ou inválida.\n",
        "\n",
        "#Por exemplo:\n",
        "\n",
        "#-05/01/2025 é uma data inválida, pois não existe dia negativo;\n",
        "#35/03/1800 é uma data inválida, pois março não tem dia 35 (nenhum mês tem);\n",
        "#12/18/2020 é uma data inválida, pois não existe mês 18;\n",
        "#29/02/2019 é uma data inválida, pois fevereiro não tem 29 dias no ano de 2019 (não é bissexto);\n",
        "#29/02/2020 é uma data válida — 2020 é ano bissexto.\n",
        "\n",
        "#1° Passo: Faça o programa sem se preocupar, a princípio, com anos bissextos.\n",
        "\n",
        "#2° Passo: Após concluir o programa, adicione ao código a capacidade de lidar com anos bissextos.\n",
        "\n",
        "#3° Passo: Anos bissextos são aqueles anos que são múltiplos de 4. Entretanto, múltiplos de 100, exceto múltiplos de 400, não são considerados anos bissextos.\n",
        "\n",
        "\n",
        "\n",
        "dia = int(input('Qual e o dia?  '))\n",
        "mes = int(input('Qual e o mes?  '))\n",
        "ano = int(input('Qual e o ano?  '))\n",
        "\n",
        "valida = False\n",
        "\n",
        "if (mes == 1 or mes == 3 or mes == 5 or mes == 7 or \\\n",
        "    mes == 8 or mes == 10 or mes == 12):\n",
        "    if (dia<=31):\n",
        "      valida = True\n",
        "\n",
        "elif (mes ==4 or mes==6 or mes==9 or mes==10):\n",
        "  if (dia<=31):\n",
        "    valida = True\n",
        "elif mes==2:\n",
        "\n",
        "    if (ano%4==0 and ano%100!=0 ) or (ano%400==0):\n",
        "      if (dia<=29):\n",
        "        valida = True\n",
        "\n",
        "    elif (dia<=28):\n",
        "      valido = True\n",
        "\n",
        "if (valida):\n",
        "  print('Data validá')\n",
        "else:\n",
        "  print('Data invalida')\n",
        "\n",
        "print('data de hoje {}/{}/{}'.format(dia, mes, ano))\n",
        "\n"
      ],
      "metadata": {
        "id": "6DSkUaSiIp8M",
        "colab": {
          "base_uri": "https://localhost:8080/"
        },
        "outputId": "395e27f4-99b3-44e4-d9fd-c6c96c36058f"
      },
      "execution_count": 4,
      "outputs": [
        {
          "output_type": "stream",
          "name": "stdout",
          "text": [
            "Qual e o dia?  16\n",
            "Qual e o mes?  2\n",
            "Qual e o ano?  2024\n",
            "Data validá\n",
            "data de hoje 16/2/2024\n"
          ]
        }
      ]
    }
  ]
}